{
 "cells": [
  {
   "cell_type": "markdown",
   "metadata": {},
   "source": [
    "# Hello class!\n",
    "## Welcome to DS4A\n",
    "### Hope you enjoy this wonderful journey\n",
    "#### Have a great day and remember: "
   ]
  },
  {
   "cell_type": "markdown",
   "metadata": {},
   "source": [
    "“**Life** is like riding a bicycle. To keep your balance, you must keep moving.” ― Albert Einstein"
   ]
  }
 ],
 "metadata": {
  "kernelspec": {
   "display_name": "Python 3",
   "language": "python",
   "name": "python3"
  },
  "language_info": {
   "codemirror_mode": {
    "name": "ipython",
    "version": 3
   },
   "file_extension": ".py",
   "mimetype": "text/x-python",
   "name": "python",
   "nbconvert_exporter": "python",
   "pygments_lexer": "ipython3",
   "version": "3.6.7"
  }
 },
 "nbformat": 4,
 "nbformat_minor": 2
}
